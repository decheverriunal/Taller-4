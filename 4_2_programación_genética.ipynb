{
  "nbformat": 4,
  "nbformat_minor": 0,
  "metadata": {
    "colab": {
      "provenance": []
    },
    "kernelspec": {
      "name": "python3",
      "display_name": "Python 3"
    },
    "language_info": {
      "name": "python"
    }
  },
  "cells": [
    {
      "cell_type": "code",
      "source": [
        "!pip install deap\n"
      ],
      "metadata": {
        "colab": {
          "base_uri": "https://localhost:8080/"
        },
        "id": "DV1lriwxTn7_",
        "outputId": "50d9a5f0-e126-45f8-84f3-810a40b3e2a4"
      },
      "execution_count": null,
      "outputs": [
        {
          "output_type": "stream",
          "name": "stdout",
          "text": [
            "Collecting deap\n",
            "  Downloading deap-1.4.1-cp310-cp310-manylinux_2_5_x86_64.manylinux1_x86_64.manylinux_2_17_x86_64.manylinux2014_x86_64.whl.metadata (13 kB)\n",
            "Requirement already satisfied: numpy in /usr/local/lib/python3.10/dist-packages (from deap) (1.26.4)\n",
            "Downloading deap-1.4.1-cp310-cp310-manylinux_2_5_x86_64.manylinux1_x86_64.manylinux_2_17_x86_64.manylinux2014_x86_64.whl (135 kB)\n",
            "\u001b[?25l   \u001b[90m━━━━━━━━━━━━━━━━━━━━━━━━━━━━━━━━━━━━━━━━\u001b[0m \u001b[32m0.0/135.4 kB\u001b[0m \u001b[31m?\u001b[0m eta \u001b[36m-:--:--\u001b[0m\r\u001b[2K   \u001b[91m━━━━━━━━━━━━━━━━━━━━━━━━━━━━━━━━━\u001b[0m\u001b[90m╺\u001b[0m\u001b[90m━━━━━━\u001b[0m \u001b[32m112.6/135.4 kB\u001b[0m \u001b[31m3.4 MB/s\u001b[0m eta \u001b[36m0:00:01\u001b[0m\r\u001b[2K   \u001b[90m━━━━━━━━━━━━━━━━━━━━━━━━━━━━━━━━━━━━━━━━\u001b[0m \u001b[32m135.4/135.4 kB\u001b[0m \u001b[31m2.8 MB/s\u001b[0m eta \u001b[36m0:00:00\u001b[0m\n",
            "\u001b[?25hInstalling collected packages: deap\n",
            "Successfully installed deap-1.4.1\n"
          ]
        }
      ]
    },
    {
      "cell_type": "code",
      "source": [
        "from deap import base, creator, tools, gp\n"
      ],
      "metadata": {
        "id": "Nt8r5H2dTpvN"
      },
      "execution_count": null,
      "outputs": []
    },
    {
      "cell_type": "code",
      "source": [
        "import operator\n",
        "import random\n",
        "import numpy as np\n",
        "from deap import base, creator, tools, gp"
      ],
      "metadata": {
        "id": "fvIfTQzYT2Bw"
      },
      "execution_count": null,
      "outputs": []
    },
    {
      "cell_type": "code",
      "source": [
        "# Definir las funciones lógicas\n",
        "def AND(a, b): return a and b\n",
        "def OR(a, b): return a or b\n",
        "def NOT(a): return not a"
      ],
      "metadata": {
        "id": "pDa_egGiT7hU"
      },
      "execution_count": null,
      "outputs": []
    },
    {
      "cell_type": "code",
      "source": [
        "# Conjunto de funciones\n",
        "pset = gp.PrimitiveSet(\"MAIN\", 4)  # 4 entradas: A, B, C, D\n",
        "pset.addPrimitive(AND, 2)\n",
        "pset.addPrimitive(OR, 2)\n",
        "pset.addPrimitive(NOT, 1)"
      ],
      "metadata": {
        "id": "3aMn2VhwT92C"
      },
      "execution_count": null,
      "outputs": []
    },
    {
      "cell_type": "code",
      "source": [
        "# Nombres de las entradas\n",
        "pset.renameArguments(ARG0=\"A\", ARG1=\"B\", ARG2=\"C\", ARG3=\"D\")\n",
        "\n",
        "# Crear el problema\n",
        "creator.create(\"FitnessMax\", base.Fitness, weights=(1.0,))\n",
        "creator.create(\"Individual\", gp.PrimitiveTree, fitness=creator.FitnessMax)\n",
        "\n",
        "toolbox = base.Toolbox()\n",
        "toolbox.register(\"expr\", gp.genFull, pset=pset, min_=1, max_=3)\n",
        "toolbox.register(\"individual\", tools.initIterate, creator.Individual, toolbox.expr)\n",
        "toolbox.register(\"population\", tools.initRepeat, list, toolbox.individual)\n"
      ],
      "metadata": {
        "colab": {
          "base_uri": "https://localhost:8080/"
        },
        "id": "6XoGmO8nUApY",
        "outputId": "0c3d8b25-40a4-44d5-e482-0ea8150cca43"
      },
      "execution_count": null,
      "outputs": [
        {
          "output_type": "stream",
          "name": "stderr",
          "text": [
            "/usr/local/lib/python3.10/dist-packages/deap/creator.py:185: RuntimeWarning: A class named 'FitnessMax' has already been created and it will be overwritten. Consider deleting previous creation of that class or rename it.\n",
            "  warnings.warn(\"A class named '{0}' has already been created and it \"\n",
            "/usr/local/lib/python3.10/dist-packages/deap/creator.py:185: RuntimeWarning: A class named 'Individual' has already been created and it will be overwritten. Consider deleting previous creation of that class or rename it.\n",
            "  warnings.warn(\"A class named '{0}' has already been created and it \"\n"
          ]
        }
      ]
    },
    {
      "cell_type": "code",
      "source": [
        "# Evaluación de aptitud\n",
        "def evaluate(individual):\n",
        "    func = toolbox.compile(expr=individual)\n",
        "    # Tabla de verdad para un codificador de 7 segmentos\n",
        "    truth_table = [\n",
        "        ([0, 0, 0, 0], [1, 1, 1, 1, 1, 1, 0]),  # Representa \"0\"\n",
        "        ([0, 0, 0, 1], [0, 1, 1, 0, 0, 0, 0]),  # Representa \"1\"\n",
        "        # Agrega las demás entradas y salidas para \"2\", \"3\", ..., \"9\"\n",
        "    ]\n",
        "    score = 0\n",
        "    for inputs, expected_output in truth_table:\n",
        "        output = [func(*inputs) for _ in range(7)]  # Simula las salidas\n",
        "        score += sum(1 for o, e in zip(output, expected_output) if o == e)\n",
        "    return score,"
      ],
      "metadata": {
        "id": "BIN34HBSUDxA"
      },
      "execution_count": null,
      "outputs": []
    },
    {
      "cell_type": "code",
      "source": [
        "# Registro de herramientas\n",
        "toolbox.register(\"compile\", gp.compile, pset=pset)\n",
        "toolbox.register(\"evaluate\", evaluate)\n",
        "toolbox.register(\"select\", tools.selTournament, tournsize=3)\n",
        "toolbox.register(\"mate\", gp.cxOnePoint)\n",
        "toolbox.register(\"mutate\", gp.mutUniform, expr=toolbox.expr, pset=pset)\n"
      ],
      "metadata": {
        "id": "H9YbOYffUGmH"
      },
      "execution_count": null,
      "outputs": []
    },
    {
      "cell_type": "code",
      "source": [
        "# Configuración del algoritmo\n",
        "toolbox.register(\"map\", map)\n",
        "\n",
        "def main():\n",
        "    random.seed(42)\n",
        "    population = toolbox.population(n=100)\n",
        "    hof = tools.HallOfFame(1)\n",
        "    stats = tools.Statistics(lambda ind: ind.fitness.values)\n",
        "    stats.register(\"avg\", np.mean)\n",
        "    stats.register(\"max\", np.max)"
      ],
      "metadata": {
        "id": "pHnJ5USyUJoV"
      },
      "execution_count": null,
      "outputs": []
    },
    {
      "cell_type": "code",
      "source": [
        "import random\n",
        "import numpy as np\n",
        "from deap import base, creator, tools, algorithms\n",
        "\n",
        "# Crear los tipos básicos\n",
        "creator.create(\"FitnessMin\", base.Fitness, weights=(-1.0,))\n",
        "creator.create(\"Individual\", list, fitness=creator.FitnessMin)\n",
        "\n",
        "# Crear toolbox\n",
        "toolbox = base.Toolbox()\n",
        "toolbox.register(\"attr_float\", random.uniform, -10, 10)\n",
        "toolbox.register(\"individual\", tools.initRepeat, creator.Individual, toolbox.attr_float, n=5)\n",
        "toolbox.register(\"population\", tools.initRepeat, list, toolbox.individual)\n",
        "\n",
        "def evaluate(individual):\n",
        "    return sum(x**2 for x in individual),  # Evaluar la suma de cuadrados\n",
        "\n",
        "toolbox.register(\"mate\", tools.cxBlend, alpha=0.5)\n",
        "toolbox.register(\"mutate\", tools.mutGaussian, mu=0, sigma=1, indpb=0.2)\n",
        "toolbox.register(\"select\", tools.selTournament, tournsize=3)\n",
        "toolbox.register(\"evaluate\", evaluate)\n",
        "\n",
        "# Configurar estadísticas y Hall of Fame\n",
        "stats = tools.Statistics(key=lambda ind: ind.fitness.values)\n",
        "stats.register(\"min\", np.min)\n",
        "stats.register(\"avg\", np.mean)\n",
        "\n",
        "hof = tools.HallOfFame(1)\n",
        "\n",
        "def main():\n",
        "    random.seed(42)\n",
        "    population = toolbox.population(n=50)\n",
        "\n",
        "    # Algoritmo evolutivo\n",
        "    population, logbook = algorithms.eaSimple(population, toolbox, cxpb=0.5, mutpb=0.2,\n",
        "                                              ngen=40, stats=stats, halloffame=hof,\n",
        "                                              verbose=True)\n",
        "\n",
        "    # Imprimir resultados\n",
        "    print(\"Mejor individuo:\", hof[0])\n",
        "    print(\"Aptitud:\", hof[0].fitness.values[0])\n",
        "\n",
        "if __name__ == \"__main__\":\n",
        "    main()\n"
      ],
      "metadata": {
        "colab": {
          "base_uri": "https://localhost:8080/"
        },
        "id": "MC6ro0fmUmtM",
        "outputId": "20617f30-e26b-4653-cab4-843a64f6fb04"
      },
      "execution_count": null,
      "outputs": [
        {
          "output_type": "stream",
          "name": "stdout",
          "text": [
            "gen\tnevals\tmin    \tavg    \n",
            "0  \t50    \t78.1453\t170.877\n",
            "1  \t34    \t57.4474\t131.565\n",
            "2  \t30    \t24.9891\t93.9177\n",
            "3  \t29    \t14.9678\t69.5816\n",
            "4  \t33    \t14.9678\t50.6336\n",
            "5  \t27    \t4.4407 \t33.7353\n",
            "6  \t28    \t4.4407 \t22.863 \n",
            "7  \t30    \t4.80102\t16.0411\n",
            "8  \t34    \t1.59264\t11.5087\n",
            "9  \t26    \t0.319029\t8.29523\n",
            "10 \t29    \t1.44209 \t5.26378\n",
            "11 \t29    \t1.45261 \t3.56065\n",
            "12 \t30    \t0.247436\t2.26804\n",
            "13 \t28    \t0.247436\t2.11053\n",
            "14 \t24    \t0.133757\t1.24246\n",
            "15 \t35    \t0.133757\t0.805258\n",
            "16 \t31    \t0.133757\t0.635552\n",
            "17 \t33    \t0.0611178\t0.704081\n",
            "18 \t36    \t0.0504591\t0.401196\n",
            "19 \t28    \t0.0238136\t0.266672\n",
            "20 \t32    \t0.0351805\t0.448557\n",
            "21 \t27    \t0.0342132\t0.323325\n",
            "22 \t26    \t0.0176376\t0.158408\n",
            "23 \t23    \t0.0162658\t0.082841\n",
            "24 \t22    \t0.00363994\t0.0832444\n",
            "25 \t30    \t0.00363994\t0.139067 \n",
            "26 \t29    \t0.00348742\t0.149255 \n",
            "27 \t35    \t0.000510733\t0.230086 \n",
            "28 \t26    \t0.000510733\t0.395897 \n",
            "29 \t32    \t0.000510733\t0.420255 \n",
            "30 \t30    \t0.000510733\t0.221244 \n",
            "31 \t33    \t0.000137926\t0.195089 \n",
            "32 \t35    \t0.000137926\t0.138669 \n",
            "33 \t37    \t0.000137926\t0.225844 \n",
            "34 \t29    \t5.52787e-05\t0.0635028\n",
            "35 \t32    \t5.52787e-05\t0.174141 \n",
            "36 \t32    \t3.01647e-05\t0.0700433\n",
            "37 \t32    \t1.92887e-05\t0.48052  \n",
            "38 \t34    \t1.92887e-05\t0.0360137\n",
            "39 \t34    \t5.59802e-06\t0.221283 \n",
            "40 \t29    \t5.59802e-06\t0.316804 \n",
            "Mejor individuo: [-0.0016401937765384567, -0.00016673135697485014, -0.00031883578418363855, 0.0013540607354497664, -0.0009720305397517468]\n",
            "Aptitud: 5.598015072766989e-06\n"
          ]
        }
      ]
    }
  ]
}